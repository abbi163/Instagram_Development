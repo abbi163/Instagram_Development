{
 "cells": [
  {
   "cell_type": "code",
   "execution_count": 2,
   "metadata": {},
   "outputs": [
    {
     "name": "stdout",
     "output_type": "stream",
     "text": [
      "Collecting git+https://git@github.com/ping/instagram_private_api.git@1.6.0\n",
      "  Cloning https://git@github.com/ping/instagram_private_api.git (to revision 1.6.0) to c:\\users\\pc\\appdata\\local\\temp\\pip-req-build-n69xd5in\n",
      "Building wheels for collected packages: instagram-private-api\n",
      "  Building wheel for instagram-private-api (setup.py): started\n",
      "  Building wheel for instagram-private-api (setup.py): finished with status 'done'\n",
      "  Created wheel for instagram-private-api: filename=instagram_private_api-1.6.0-cp37-none-any.whl size=76904 sha256=7c641849ddbe0506f087299fd1afd7349393dbddf2ee0aa38d914a01763f474a\n",
      "  Stored in directory: C:\\Users\\PC\\AppData\\Local\\Temp\\pip-ephem-wheel-cache-s_xlz36c\\wheels\\49\\a5\\9a\\500d6a722f369125e169bcd77617c9943f6961338fe8ac83bb\n",
      "Successfully built instagram-private-api\n",
      "Installing collected packages: instagram-private-api\n",
      "Successfully installed instagram-private-api-1.6.0\n"
     ]
    },
    {
     "name": "stderr",
     "output_type": "stream",
     "text": [
      "  Running command git clone -q https://git@github.com/ping/instagram_private_api.git 'C:\\Users\\PC\\AppData\\Local\\Temp\\pip-req-build-n69xd5in'\n",
      "  Running command git checkout -q d1180fc00398dc58c9903b97be0c9148d69d21ec\n"
     ]
    }
   ],
   "source": [
    "# !pip install git+https://git@github.com/ping/instagram_private_api.git@1.6.0 --upgrade"
   ]
  },
  {
   "cell_type": "code",
   "execution_count": null,
   "metadata": {},
   "outputs": [],
   "source": []
  },
  {
   "cell_type": "markdown",
   "metadata": {},
   "source": [
    "### getting usernames "
   ]
  },
  {
   "cell_type": "code",
   "execution_count": 2,
   "metadata": {
    "scrolled": true
   },
   "outputs": [
    {
     "name": "stderr",
     "output_type": "stream",
     "text": [
      "C:\\Users\\PC\\Anaconda3\\envs\\Twitter\\lib\\site-packages\\win_unicode_console\\__init__.py:31: RuntimeWarning: sys.stdin.encoding == 'cp1252', whereas sys.stdout.encoding == 'UTF-8', readline hook consumer may assume they are the same\n",
      "  readline_hook.enable(use_pyreadline=use_pyreadline)\n",
      "C:\\Users\\PC\\Anaconda3\\envs\\Twitter\\lib\\site-packages\\sklearn\\externals\\joblib\\__init__.py:15: FutureWarning: sklearn.externals.joblib is deprecated in 0.21 and will be removed in 0.23. Please import this functionality directly from joblib, which can be installed with: pip install joblib. If this warning is raised when loading pickled models, you may need to re-serialize those models with scikit-learn 0.21+.\n",
      "  warnings.warn(msg, category=FutureWarning)\n"
     ]
    },
    {
     "name": "stdout",
     "output_type": "stream",
     "text": [
      "black\n"
     ]
    },
    {
     "ename": "NameError",
     "evalue": "name 'ClientError' is not defined",
     "output_type": "error",
     "traceback": [
      "\u001b[1;31m---------------------------------------------------------------------------\u001b[0m",
      "\u001b[1;31mNameError\u001b[0m                                 Traceback (most recent call last)",
      "\u001b[1;32m<ipython-input-2-b96750df933e>\u001b[0m in \u001b[0;36m<module>\u001b[1;34m\u001b[0m\n\u001b[0;32m     61\u001b[0m         \u001b[1;32mtry\u001b[0m\u001b[1;33m:\u001b[0m\u001b[1;33m\u001b[0m\u001b[1;33m\u001b[0m\u001b[0m\n\u001b[1;32m---> 62\u001b[1;33m             \u001b[1;32mif\u001b[0m \u001b[1;33m(\u001b[0m\u001b[0minsta\u001b[0m\u001b[1;33m.\u001b[0m\u001b[0mprivateAccount\u001b[0m\u001b[1;33m(\u001b[0m\u001b[0muser\u001b[0m\u001b[1;33m)\u001b[0m \u001b[1;33m==\u001b[0m \u001b[1;32mFalse\u001b[0m\u001b[1;33m)\u001b[0m\u001b[1;33m:\u001b[0m\u001b[1;33m\u001b[0m\u001b[1;33m\u001b[0m\u001b[0m\n\u001b[0m\u001b[0;32m     63\u001b[0m                 \u001b[0mtime\u001b[0m\u001b[1;33m.\u001b[0m\u001b[0msleep\u001b[0m\u001b[1;33m(\u001b[0m\u001b[1;36m2\u001b[0m\u001b[1;33m)\u001b[0m\u001b[1;33m\u001b[0m\u001b[1;33m\u001b[0m\u001b[0m\n",
      "\u001b[1;31mNameError\u001b[0m: name 'insta' is not defined",
      "\nDuring handling of the above exception, another exception occurred:\n",
      "\u001b[1;31mNameError\u001b[0m                                 Traceback (most recent call last)",
      "\u001b[1;32m<ipython-input-2-b96750df933e>\u001b[0m in \u001b[0;36m<module>\u001b[1;34m\u001b[0m\n\u001b[0;32m     68\u001b[0m             \u001b[1;32melse\u001b[0m\u001b[1;33m:\u001b[0m\u001b[1;33m\u001b[0m\u001b[1;33m\u001b[0m\u001b[0m\n\u001b[0;32m     69\u001b[0m                 \u001b[0mprivateAccount\u001b[0m \u001b[1;33m+=\u001b[0m \u001b[1;36m1\u001b[0m\u001b[1;33m\u001b[0m\u001b[1;33m\u001b[0m\u001b[0m\n\u001b[1;32m---> 70\u001b[1;33m         \u001b[1;32mexcept\u001b[0m \u001b[0mClientError\u001b[0m\u001b[1;33m:\u001b[0m\u001b[1;33m\u001b[0m\u001b[1;33m\u001b[0m\u001b[0m\n\u001b[0m\u001b[0;32m     71\u001b[0m             \u001b[0mprint\u001b[0m\u001b[1;33m(\u001b[0m\u001b[0muser\u001b[0m\u001b[1;33m)\u001b[0m\u001b[1;33m\u001b[0m\u001b[1;33m\u001b[0m\u001b[0m\n\u001b[0;32m     72\u001b[0m             \u001b[0mError\u001b[0m \u001b[1;33m+=\u001b[0m \u001b[1;36m1\u001b[0m\u001b[1;33m\u001b[0m\u001b[1;33m\u001b[0m\u001b[0m\n",
      "\u001b[1;31mNameError\u001b[0m: name 'ClientError' is not defined"
     ]
    }
   ],
   "source": [
    "# Change directory\n",
    "import os\n",
    "os.chdir('C:\\\\Users\\\\PC\\\\Desktop\\\\Instagram_production')\n",
    "\n",
    "from src.data import data\n",
    "# Necessary imports\n",
    "from datetime import datetime, timedelta\n",
    "from itertools import dropwhile, takewhile\n",
    "from instaloader import Instaloader, Profile\n",
    "from src.insta import InstagramBot\n",
    "from sklearn.externals.joblib import load\n",
    "from src.FeatureExtraction import featureExtraction\n",
    "import sqlite3 as db\n",
    "import numpy as np\n",
    "import pandas as pd\n",
    "from numpy import random\n",
    "from selenium.common.exceptions import TimeoutException\n",
    "\n",
    "hashtags = data.hashtagAfrica()\n",
    "user_pwd = data.user_pwd()\n",
    "hashtags = [ 'black', 'ethiopia', 'afrique', 'culture' ,'naija', 'adventure', 'morocco', 'naturephotography', 'senegal']\n",
    "\n",
    "#black #travelgram #ethiopia #london #uk #picoftheday #afrique #bhfyp #style #worldwide #canada #team]\n",
    "for hashtag in hashtags:\n",
    "\n",
    "#     t = random.randint(0, len(hashtags))\n",
    "#     hashtag = hashtags[t]\n",
    "    print (hashtag)\n",
    "    # Step 2\n",
    "    L = Instaloader()\n",
    "    data = []\n",
    "    posts = L.get_hashtag_posts(hashtag)\n",
    "    likes = set()\n",
    "\n",
    "    today = datetime.today()\n",
    "    tomorrow = datetime.today() + timedelta(days = 2)\n",
    "    yesterday = datetime.today() + timedelta(days = -1)\n",
    "\n",
    "    # Since is big | less past \n",
    "    SINCE = tomorrow\n",
    "    # Until is small | past\n",
    "    UNTIL = yesterday\n",
    "\n",
    "    # Extract the list of people to send request to, note : We are selecting the users who are recently active. \n",
    "\n",
    "    for post in takewhile(lambda p: p.date > UNTIL, dropwhile(lambda p: p.date > SINCE, posts)):\n",
    "#         print(post.date)\n",
    "        likes = post.get_likes()\n",
    "        for like in likes:\n",
    "            data.append(like.username)\n",
    "        users = np.unique(data)\n",
    "        if len(users) >= 500: \n",
    "            break;\n",
    "        else:\n",
    "            pass\n",
    "        \n",
    "    RequestSent = 0\n",
    "    privateAccount = 0\n",
    "    Error = 0\n",
    "    for user in users:\n",
    "        try: \n",
    "            if (insta.privateAccount(user) == False):\n",
    "                time.sleep(2)\n",
    "                insta.follow(user)\n",
    "                print('Sent Request to : ', user)\n",
    "                time.sleep(2)\n",
    "                RequestSent += 1\n",
    "            else: \n",
    "                privateAccount += 1\n",
    "        except ClientError:\n",
    "            print(user)\n",
    "            Error += 1\n",
    "            break;\n",
    "    print('Total Request Sent :', RequestSent)\n",
    "    print('Total Error Happened:', Error)\n",
    "    print('Total Private Account:', privateAccount)\n",
    "    print(len(users))"
   ]
  },
  {
   "cell_type": "code",
   "execution_count": null,
   "metadata": {},
   "outputs": [],
   "source": [
    "# 1 post , 23 followers, 171 following\n"
   ]
  },
  {
   "cell_type": "code",
   "execution_count": null,
   "metadata": {},
   "outputs": [],
   "source": [
    "users"
   ]
  },
  {
   "cell_type": "code",
   "execution_count": 1,
   "metadata": {},
   "outputs": [],
   "source": [
    "from instagram_private_api import Client, ClientCompatPatch\n",
    "import time\n",
    "class Instagram(object):\n",
    "    def __init__(self, username = None, password = None):\n",
    "        self.username = username\n",
    "        self.password = password\n",
    "        self.api = self.login()\n",
    "        \n",
    "    def login(self):\n",
    "        return Client(self.username, self.password)\n",
    "    \n",
    "    def get_userId(self, user):\n",
    "        # Getting userId to send follo or unfollow request according to this python package !\n",
    "        ''' return userId for crossponding user which can be used to send follow | unfollow request '''\n",
    "        return self.api.user_detail_info(user)['reel_feed']['id']\n",
    "    \n",
    "    def get_mediaId(self, user):\n",
    "        ''' Returns mediaId for public account, \n",
    "            Note: Only top 12 media id is returned if total number of media is more than 12 else return media id\n",
    "            of all the posts\n",
    "        '''\n",
    "        return [item['id'] for item in self.api.user_detail_info(user)['feed']['items']]\n",
    "    \n",
    "    def follow(self, user):\n",
    "        userId = self.api.user_detail_info(user)['reel_feed']['id']\n",
    "        self.api.friendships_create(userId)\n",
    "        \n",
    "    def unfollow(self, user):\n",
    "        userId = self.api.user_detail_info(user)['reel_feed']['id']\n",
    "        self.api.friendships_destroy(userId) \n",
    "        \n",
    "    def likeUserPhotos(self, user, amount = None, sleepTime = 2):\n",
    "        '''\n",
    "        Like photos of user if username is given.\n",
    "        \n",
    "        # Note : change sleepTime if required\n",
    "        \n",
    "        Example: \n",
    "            >>> likeUserPhotos(user, amount = None, sleepTime = 2)\n",
    "        '''\n",
    "        media_id = [item['id'] for item in self.api.user_detail_info(user)['feed']['items']]\n",
    "        if amount == None : \n",
    "            count = len(media_id)\n",
    "        elif amount > len(media_id):\n",
    "            count = len(media_id)\n",
    "        else:\n",
    "            count = amount\n",
    "        for i in range(0 , count):\n",
    "            self.api.post_like(media_id[i])\n",
    "            time.sleep(sleepTime)\n",
    "    def privateAccount(self, user):\n",
    "        ''' True if the account is private else False '''\n",
    "        return self.api.user_detail_info(user)['user_detail']['user']['is_private']\n",
    "            \n",
    "            \n",
    "            \n",
    "        "
   ]
  },
  {
   "cell_type": "code",
   "execution_count": null,
   "metadata": {},
   "outputs": [],
   "source": [
    "insta = Instagram(username = 'rat163002', password = 'Abbi@163')"
   ]
  },
  {
   "cell_type": "code",
   "execution_count": null,
   "metadata": {},
   "outputs": [],
   "source": [
    "import time\n",
    "from instagram_private_api.errors import ClientError                               "
   ]
  },
  {
   "cell_type": "code",
   "execution_count": null,
   "metadata": {},
   "outputs": [],
   "source": [
    "print(len(users))"
   ]
  },
  {
   "cell_type": "markdown",
   "metadata": {},
   "source": [
    "    Follow users !!\n",
    "________________________________"
   ]
  },
  {
   "cell_type": "code",
   "execution_count": null,
   "metadata": {},
   "outputs": [],
   "source": [
    "RequestSent = 0\n",
    "privateAccount = 0\n",
    "Error = 0\n",
    "for user in users:\n",
    "    try: \n",
    "        if (insta.privateAccount(user) == False):\n",
    "            time.sleep(2)\n",
    "            insta.follow(user)\n",
    "            print('Sent Request to : ', user)\n",
    "            time.sleep(2)\n",
    "            RequestSent += 1\n",
    "        else: \n",
    "            privateAccount += 1\n",
    "    except ClientError:\n",
    "        Error += 1\n",
    "print('Total Request Sent :', RequestSent)\n",
    "print('Total Error Happened:', Error)\n",
    "print('Total Private Account:', privateAccount)\n",
    "print(len(users))\n",
    "#     "
   ]
  },
  {
   "cell_type": "code",
   "execution_count": null,
   "metadata": {},
   "outputs": [],
   "source": [
    "insta.likeUserPhotos('keto_diet_meals', amount = 5, sleepTime = 2)"
   ]
  },
  {
   "cell_type": "code",
   "execution_count": null,
   "metadata": {},
   "outputs": [],
   "source": [
    "125 -73"
   ]
  },
  {
   "cell_type": "code",
   "execution_count": null,
   "metadata": {},
   "outputs": [],
   "source": [
    "Aoi_Family = ['Taizo', 'Yoshie', 'Aoi', 'Hitomi']"
   ]
  },
  {
   "cell_type": "code",
   "execution_count": null,
   "metadata": {},
   "outputs": [],
   "source": [
    "for member in Aoi_Family:\n",
    "    print(member)"
   ]
  },
  {
   "cell_type": "code",
   "execution_count": null,
   "metadata": {},
   "outputs": [],
   "source": [
    "res.keys()"
   ]
  },
  {
   "cell_type": "code",
   "execution_count": null,
   "metadata": {},
   "outputs": [],
   "source": []
  },
  {
   "cell_type": "code",
   "execution_count": null,
   "metadata": {},
   "outputs": [],
   "source": [
    "count = 0\n",
    "mediaId = []\n",
    "for item in res['feed']['items']:\n",
    "    count += 1\n",
    "    print(item['id'])\n",
    "    mediaId.append(item['id'])\n",
    "    print('------------------------')\n",
    "    print('------------------------')\n",
    "    print('------------------------')\n",
    "print(count)"
   ]
  },
  {
   "cell_type": "code",
   "execution_count": null,
   "metadata": {},
   "outputs": [],
   "source": [
    "api.post_like('2274241522979640346_31498422299')"
   ]
  },
  {
   "cell_type": "code",
   "execution_count": null,
   "metadata": {},
   "outputs": [],
   "source": [
    "mediaId"
   ]
  },
  {
   "cell_type": "code",
   "execution_count": null,
   "metadata": {},
   "outputs": [],
   "source": [
    "dir(Client)"
   ]
  },
  {
   "cell_type": "code",
   "execution_count": null,
   "metadata": {},
   "outputs": [],
   "source": []
  }
 ],
 "metadata": {
  "kernelspec": {
   "display_name": "Python 3",
   "language": "python",
   "name": "python3"
  },
  "language_info": {
   "codemirror_mode": {
    "name": "ipython",
    "version": 3
   },
   "file_extension": ".py",
   "mimetype": "text/x-python",
   "name": "python",
   "nbconvert_exporter": "python",
   "pygments_lexer": "ipython3",
   "version": "3.7.6"
  }
 },
 "nbformat": 4,
 "nbformat_minor": 4
}
