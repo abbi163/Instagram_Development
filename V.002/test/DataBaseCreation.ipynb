{
 "cells": [
  {
   "cell_type": "code",
   "execution_count": null,
   "metadata": {},
   "outputs": [],
   "source": []
  },
  {
   "cell_type": "markdown",
   "metadata": {},
   "source": [
    "# To create Tables of the following\n",
    "    1. Followers\n",
    "    2. Following\n",
    "    # To be run every day once !!\n",
    "    \n",
    "    3. UsersData # \n",
    "    4. ErrorsLog # Those users who was given positive by model but shown error while sending request !\n",
    "    5. FollowSent\n",
    "    6. DailyReport\n"
   ]
  },
  {
   "cell_type": "code",
   "execution_count": 1,
   "metadata": {},
   "outputs": [
    {
     "data": {
      "text/plain": [
       "<sqlite3.Cursor at 0x7fa02534c500>"
      ]
     },
     "execution_count": 1,
     "metadata": {},
     "output_type": "execute_result"
    }
   ],
   "source": [
    "import sqlite3 as db\n",
    "username = 'rat163002'\n",
    "# Connect to a database (or create one if it doesn't exist)\n",
    "query = 'data/{}.db'.format(username)\n",
    "conn = db.connect(query)\n",
    "# Create a 'cursor' for executing commands\n",
    "c = conn.cursor()\n",
    "# For any user only these 5 tables will be formed inside whom all the data will be collected. \n",
    "c.execute(\"CREATE TABLE Followers (username TEXT)\")\n",
    "c.execute(\"CREATE TABLE Following (username TEXT)\")\n",
    "c.execute(\"CREATE TABLE UsersData (date DATE, hashtag TEXT, username TEXT, followers INTEGER, followees INTEGER, private_account TEXT, post_media INTEGER, post_igtv INTEGER, full_name TEXT, biography TEXT)\")\n",
    "c.execute(\"CREATE TABLE ErrorLog (username TEXT)\")\n",
    "c.execute(\"CREATE TABLE FollowSent (username TEXT)\")\n",
    "c.execute(\"CREATE TABLE DailyReport (date DATE, post INTEGER, followings INTEGER, followers INTEGER )\")"
   ]
  },
  {
   "cell_type": "code",
   "execution_count": null,
   "metadata": {},
   "outputs": [],
   "source": []
  }
 ],
 "metadata": {
  "kernelspec": {
   "display_name": "Python 3",
   "language": "python",
   "name": "python3"
  },
  "language_info": {
   "codemirror_mode": {
    "name": "ipython",
    "version": 3
   },
   "file_extension": ".py",
   "mimetype": "text/x-python",
   "name": "python",
   "nbconvert_exporter": "python",
   "pygments_lexer": "ipython3",
   "version": "3.7.7"
  }
 },
 "nbformat": 4,
 "nbformat_minor": 4
}
