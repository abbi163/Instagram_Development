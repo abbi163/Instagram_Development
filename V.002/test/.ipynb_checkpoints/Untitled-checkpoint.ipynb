{
 "cells": [
  {
   "cell_type": "code",
   "execution_count": null,
   "metadata": {},
   "outputs": [],
   "source": []
  },
  {
   "cell_type": "code",
   "execution_count": null,
   "metadata": {},
   "outputs": [],
   "source": [
    "# ! pip install git+https://git@github.com/ping/instagram_private_api.git@1.6.0 --upgrade\n",
    "# ! pip install instaloader"
   ]
  },
  {
   "cell_type": "code",
   "execution_count": 1,
   "metadata": {},
   "outputs": [],
   "source": [
    "from instagram_private_api import Client, ClientCompatPatch\n",
    "from instagram_private_api.errors import ClientError  \n",
    "import time\n",
    "class Instagram(object):\n",
    "    def __init__(self, username = None, password = None):\n",
    "        self.username = username\n",
    "        self.password = password\n",
    "        self.api = self.login()\n",
    "        \n",
    "    def login(self):\n",
    "        return Client(self.username, self.password)\n",
    "    \n",
    "    def get_userId(self, user):\n",
    "        # Getting userId to send follo or unfollow request according to this python package !\n",
    "        ''' return userId for crossponding user which can be used to send follow | unfollow request '''\n",
    "        return self.api.user_detail_info(user)['reel_feed']['id']\n",
    "    \n",
    "    def get_mediaId(self, user):\n",
    "        ''' Returns mediaId for public account, \n",
    "            Note: Only top 12 media id is returned if total number of media is more than 12 else return media id\n",
    "            of all the posts\n",
    "        '''\n",
    "        return [item['id'] for item in self.api.user_detail_info(user)['feed']['items']]\n",
    "    \n",
    "    def follow(self, user):\n",
    "        userId = self.api.user_detail_info(user)['reel_feed']['id']\n",
    "        self.api.friendships_create(userId)\n",
    "        \n",
    "    def unfollow(self, user):\n",
    "        userId = self.api.user_detail_info(user)['reel_feed']['id']\n",
    "        self.api.friendships_destroy(userId) \n",
    "        \n",
    "    def likeUserPhotos(self, user, amount = None, sleepTime = 2):\n",
    "        '''\n",
    "        Like photos of user if username is given.\n",
    "        \n",
    "        # Note : change sleepTime if required\n",
    "        \n",
    "        Example: \n",
    "            >>> likeUserPhotos(user, amount = None, sleepTime = 2)\n",
    "        '''\n",
    "        media_id = [item['id'] for item in self.api.user_detail_info(user)['feed']['items']]\n",
    "        if amount == None : \n",
    "            count = len(media_id)\n",
    "        elif amount > len(media_id):\n",
    "            count = len(media_id)\n",
    "        else:\n",
    "            count = amount\n",
    "        for i in range(0 , count):\n",
    "            self.api.post_like(media_id[i])\n",
    "            time.sleep(sleepTime)\n",
    "    def privateAccount(self, user):\n",
    "        ''' True if the account is private else False '''\n",
    "        return self.api.user_detail_info(user)['user_detail']['user']['is_private']\n",
    "    \n",
    "    def following(self, user):\n",
    "        '''return bool value, False if I am not following that user else True '''\n",
    "        return self.api.user_detail_info(user)['user_detail']['user']['friendship_status']['following']\n",
    "\n",
    "    def followed_by(self, user):\n",
    "        '''return bool value, False if I am not followed by that user else True'''\n",
    "        return self.api.user_detail_info(user)['user_detail']['user']['friendship_status']['followed_by']\n"
   ]
  },
  {
   "cell_type": "code",
   "execution_count": 2,
   "metadata": {},
   "outputs": [],
   "source": [
    "import pandas as pd\n",
    "import numpy as np\n",
    "from joblib import load\n",
    "\n",
    "class featureExtraction():\n",
    "    def __init__(self, dataframe):\n",
    "        '''   '''\n",
    "        self.username = dataframe['username'].values\n",
    "        self.post = dataframe['post'].values\n",
    "        self.privacy = dataframe['privacy'].values\n",
    "        self.following = dataframe['followings'].values\n",
    "        self.followers = dataframe['followers'].values\n",
    "        self.ln_followings = np.log(dataframe['followings'].values)\n",
    "        self.ln_followers = np.log(dataframe['followers'].values)\n",
    "        \n",
    "        # For modelling we use output. While using model disable it\n",
    "        # self.output = dataframe['Output'].values\n",
    "\n",
    "    def _following(self):\n",
    "        \"\"\" categorically dividing following into  \"\"\"\n",
    "        category = []\n",
    "        for count in self.following :\n",
    "            if count > 10000 :\n",
    "                category.append(5)\n",
    "            elif count > 1000 :\n",
    "                category.append(4)\n",
    "            elif count > 500:\n",
    "                category.append(3)\n",
    "            elif count > 100:\n",
    "                category.append(2)\n",
    "            else:\n",
    "                category.append(1)\n",
    "        return category\n",
    "\n",
    "    def _follower(self):\n",
    "        \"\"\" return the category  \"\"\"\n",
    "        category = []\n",
    "        for count in self.followers :\n",
    "            if count > 10000 :\n",
    "                category.append(5)\n",
    "            elif count > 1000 :\n",
    "                category.append(4)\n",
    "            elif count > 500:\n",
    "                category.append(3)\n",
    "            elif count > 100:\n",
    "                category.append(2)\n",
    "            else:\n",
    "                category.append(1) \n",
    "        return category\n",
    "\n",
    "    def _post(self):\n",
    "        \"\"\" return the category  \"\"\"\n",
    "        category = []\n",
    "        for count in self.post :\n",
    "            if count > 500 :\n",
    "                category.append(5)\n",
    "            elif count > 100 :\n",
    "                category.append(4)\n",
    "            elif count > 50:\n",
    "                category.append(3)\n",
    "            elif count > 10:\n",
    "                category.append(2)\n",
    "            elif count >= 1:\n",
    "                category.append(1)\n",
    "            else:\n",
    "                category.append(0)\n",
    "        return category\n",
    "\n",
    "    def _privacy(self):\n",
    "        ''' \n",
    "        2: Open Account\n",
    "        1: Close Account\n",
    "        0: unknown account\n",
    "        '''\n",
    "        category = []\n",
    "        for privacy in self.post :\n",
    "            if privacy == \"Open\" :\n",
    "                category.append(2)\n",
    "            elif privacy == \"Private\" :\n",
    "                category.append(1)\n",
    "            else:\n",
    "                category.append(0)\n",
    "        return category\n",
    "    def _ratioFollowingFollower(self):\n",
    "        ''' number of followers per followings'''\n",
    "        return self.following/self.followers\n",
    "\n",
    "    def exeFeatureExtraction(self):\n",
    "        df = pd.DataFrame(data = self.ln_followings, columns = ['ln_following'])\n",
    "        df['ln_follower'] = self.ln_followers\n",
    "        df['post_category'] = self._post()\n",
    "        df['privacy_category'] = self._privacy()\n",
    "        df['follower_category'] = self._follower()\n",
    "        df['following_category'] = self._following()\n",
    "        df['ratio_Follower_Following'] = self._ratioFollowingFollower()\n",
    "        \n",
    "        # while modelling for a new user we use output, \n",
    "        # df['output'] = self.output\n",
    "        return df"
   ]
  },
  {
   "cell_type": "code",
   "execution_count": 3,
   "metadata": {},
   "outputs": [],
   "source": [
    "from instaloader import Instaloader, Profile\n",
    "from instaloader.exceptions import *\n",
    "from itertools import dropwhile, takewhile\n",
    "import time\n",
    "from datetime import datetime, timedelta\n",
    "import numpy as np\n",
    "\n",
    "class InstaDataExtractor(object):\n",
    "    \n",
    "    def __init__(self, USER, PASSWORD):\n",
    "        self.user = USER\n",
    "        self.password = PASSWORD\n",
    "        self.L = self.login()\n",
    "        \n",
    "    def login(self):\n",
    "        L = Instaloader()\n",
    "        USER = self.user # user with login done\n",
    "        PASSWORD = self.password # password of user \n",
    "        L.login(USER, PASSWORD)\n",
    "        return L\n",
    "    \n",
    "    def get_likes(self, hashtag = 'travel'):\n",
    "        ''' default hashtag is travel \n",
    "            return 100 recent people usernames who liked a particular hashtag! \n",
    "        '''\n",
    "        assert type(hashtag) == str\n",
    "        L = self.L\n",
    "        data = []\n",
    "        posts = L.get_hashtag_posts(hashtag)\n",
    "        likes = set()\n",
    "\n",
    "        today = datetime.today()\n",
    "        tomorrow = datetime.today() + timedelta(days = 2)\n",
    "        yesterday = datetime.today() + timedelta(days = -1)\n",
    "\n",
    "        # Since is big | less past \n",
    "        SINCE = tomorrow\n",
    "        # Until is small | past\n",
    "        UNTIL = yesterday\n",
    "\n",
    "        # Extract the list of people to send request to, note : We are selecting the users who are recently active. \n",
    "        for post in takewhile(lambda p: p.date > UNTIL, dropwhile(lambda p: p.date > SINCE, posts)):\n",
    "            likes = post.get_likes()\n",
    "            for like in likes:\n",
    "                data.append(like.username)\n",
    "            users = np.unique(data)\n",
    "            if len(users) >= 100: \n",
    "                break;\n",
    "            else:\n",
    "                pass\n",
    "            \n",
    "        return users[:100]\n",
    "\n",
    "    def get_followers(self, user):\n",
    "        \"\"\" returns list of followers of user \"\"\"\n",
    "        # Extracting list of my follower and followees !!\n",
    "        L = self.L\n",
    "        profile = Profile.from_username(L.context, user)\n",
    "        followers = []\n",
    "        for follower in profile.get_followers():\n",
    "            followers.append(follower.username)\n",
    "        return followers\n",
    "        \n",
    "    def get_followees(self, user):\n",
    "        ''' returns list of followees of users '''\n",
    "        L = self.L\n",
    "        profile = Profile.from_username(L.context, user)\n",
    "        followees = []\n",
    "        for followee in profile.get_followees():\n",
    "            followees.append(followee.username)\n",
    "        return followees\n",
    "        \n",
    "    def get_post(self, user, path = ''):\n",
    "      '''return all the post of the user'''\n",
    "      L = self.L\n",
    "      profile = Profile.from_username(L.context, user)\n",
    "      for post in profile.get_posts():\n",
    "        L.download_post(post, target= path)\n",
    "\n",
    "    def users_data(self, users):\n",
    "        ''' Take a list of users and return these data.\n",
    "            \n",
    "            'username', 'followers', 'followees', 'private_account', 'post_media', 'post_igtv', 'full_name', 'biography'\n",
    "            \n",
    "            Suggested to put 100 user at a time. \n",
    "        '''\n",
    "        L = self.L\n",
    "        data = []\n",
    "        for count, user in enumerate(users):\n",
    "            try: \n",
    "                profile = Profile.from_username(L.context, user)\n",
    "                if count % 5 == 0:\n",
    "                    time.sleep(1)\n",
    "                followers = profile.followers\n",
    "                followees = profile.followees\n",
    "                private_account = profile.is_private\n",
    "                posts_media = profile.mediacount\n",
    "                posts_igtv = profile.igtvcount\n",
    "                full_name = profile.full_name\n",
    "                bio = profile.biography\n",
    "                data.append((user, followers, followees, private_account, posts_media, posts_igtv, full_name, bio))\n",
    "            except ProfileNotExistsException:\n",
    "                pass\n",
    "        return data"
   ]
  },
  {
   "cell_type": "code",
   "execution_count": 4,
   "metadata": {},
   "outputs": [],
   "source": [
    "# insta = Instagram(username = 'rat163002', password = 'Abbi@163')\n",
    "insta = Instagram(username = '_hernando_malik', password = 'Anand@1630')\n",
    "# insta = Instagram(username = 'abbijeetanand', password = 'Abhi@1630')"
   ]
  },
  {
   "cell_type": "code",
   "execution_count": 15,
   "metadata": {},
   "outputs": [],
   "source": [
    "import pandas as pd\n",
    "from datetime import datetime, timedelta\n",
    "\n",
    "# dataExtractor = InstaDataExtractor('sexy__beauty__420', 'Abhijeet@163')\n",
    "dataExtractor = InstaDataExtractor('rat163004@gmail.com', 'Abbi@163')\n",
    "# dataExtractor = InstaDataExtractor('yasid.miki', 'Abbi@163')"
   ]
  },
  {
   "cell_type": "code",
   "execution_count": 9,
   "metadata": {},
   "outputs": [
    {
     "name": "stdout",
     "output_type": "stream",
     "text": [
      "fcbarcelona\n",
      "100\n",
      "\n",
      "Too many queries in the last time. Need to wait 402 seconds, until 09:26.\n",
      "100\n",
      "fcbarcelona0 701.5611431598663\n",
      "cairo\n",
      "100\n",
      "\n",
      "Too many queries in the last time. Need to wait 401 seconds, until 09:37.\n",
      "100\n",
      "cairo1 731.113156080246\n",
      "weedmemes\n",
      "100\n"
     ]
    },
    {
     "name": "stderr",
     "output_type": "stream",
     "text": [
      "JSON Query to 01.x_x/: 429 Too Many Requests [retrying; skip with ^C]\n",
      "HTTP error code 429 was returned because too many queries occurred in\n",
      "the last time. Please do not use Instagram in your browser or run\n",
      "multiple instances of Instaloader in parallel.\n",
      "GraphQL requests:\n",
      "  other\n",
      "    last 10 minutes: 69 requests\n",
      "    last 11 minutes: 92 requests\n",
      "    last 15 minutes: 146 requests\n",
      "    last 20 minutes: 146 requests\n",
      "    last 30 minutes: 246 requests\n",
      "    last 60 minutes: 246 requests\n",
      "  1cb6ec562846122743b61e492c85999f\n",
      "    last 10 minutes: 9 requests\n",
      "    last 11 minutes: 9 requests\n",
      "    last 15 minutes: 21 requests\n",
      "    last 20 minutes: 21 requests\n",
      "    last 30 minutes: 31 requests\n",
      "    last 60 minutes: 31 requests\n",
      "JSON Query to 01.x_x/: 429 Too Many Requests [retrying; skip with ^C]\n",
      "HTTP error code 429 was returned because too many queries occurred in\n",
      "the last time. Please do not use Instagram in your browser or run\n",
      "multiple instances of Instaloader in parallel.\n",
      "GraphQL requests:\n",
      "  other\n",
      "    last 10 minutes: 68 requests\n",
      "    last 11 minutes: 92 requests\n",
      "    last 15 minutes: 147 requests\n",
      "    last 20 minutes: 147 requests\n",
      "    last 30 minutes: 247 requests\n",
      "    last 60 minutes: 247 requests\n",
      "  1cb6ec562846122743b61e492c85999f\n",
      "    last 10 minutes: 9 requests\n",
      "    last 11 minutes: 9 requests\n",
      "    last 15 minutes: 21 requests\n",
      "    last 20 minutes: 21 requests\n",
      "    last 30 minutes: 31 requests\n",
      "    last 60 minutes: 31 requests\n"
     ]
    },
    {
     "ename": "ConnectionException",
     "evalue": "JSON Query to 01.x_x/: 429 Too Many Requests",
     "output_type": "error",
     "traceback": [
      "\u001b[0;31m---------------------------------------------------------------------------\u001b[0m",
      "\u001b[0;31mTooManyRequestsException\u001b[0m                  Traceback (most recent call last)",
      "\u001b[0;32m~/anaconda3/envs/arblet/lib/python3.7/site-packages/instaloader/instaloadercontext.py\u001b[0m in \u001b[0;36mget_json\u001b[0;34m(self, path, params, host, session, _attempt)\u001b[0m\n\u001b[1;32m    406\u001b[0m             \u001b[0;32mif\u001b[0m \u001b[0mresp\u001b[0m\u001b[0;34m.\u001b[0m\u001b[0mstatus_code\u001b[0m \u001b[0;34m==\u001b[0m \u001b[0;36m429\u001b[0m\u001b[0;34m:\u001b[0m\u001b[0;34m\u001b[0m\u001b[0;34m\u001b[0m\u001b[0m\n\u001b[0;32m--> 407\u001b[0;31m                 \u001b[0;32mraise\u001b[0m \u001b[0mTooManyRequestsException\u001b[0m\u001b[0;34m(\u001b[0m\u001b[0;34m\"429 Too Many Requests\"\u001b[0m\u001b[0;34m)\u001b[0m\u001b[0;34m\u001b[0m\u001b[0;34m\u001b[0m\u001b[0m\n\u001b[0m\u001b[1;32m    408\u001b[0m             \u001b[0;32mif\u001b[0m \u001b[0mresp\u001b[0m\u001b[0;34m.\u001b[0m\u001b[0mstatus_code\u001b[0m \u001b[0;34m!=\u001b[0m \u001b[0;36m200\u001b[0m\u001b[0;34m:\u001b[0m\u001b[0;34m\u001b[0m\u001b[0;34m\u001b[0m\u001b[0m\n",
      "\u001b[0;31mTooManyRequestsException\u001b[0m: 429 Too Many Requests",
      "\nDuring handling of the above exception, another exception occurred:\n",
      "\u001b[0;31mTooManyRequestsException\u001b[0m                  Traceback (most recent call last)",
      "\u001b[0;32m~/anaconda3/envs/arblet/lib/python3.7/site-packages/instaloader/instaloadercontext.py\u001b[0m in \u001b[0;36mget_json\u001b[0;34m(self, path, params, host, session, _attempt)\u001b[0m\n\u001b[1;32m    406\u001b[0m             \u001b[0;32mif\u001b[0m \u001b[0mresp\u001b[0m\u001b[0;34m.\u001b[0m\u001b[0mstatus_code\u001b[0m \u001b[0;34m==\u001b[0m \u001b[0;36m429\u001b[0m\u001b[0;34m:\u001b[0m\u001b[0;34m\u001b[0m\u001b[0;34m\u001b[0m\u001b[0m\n\u001b[0;32m--> 407\u001b[0;31m                 \u001b[0;32mraise\u001b[0m \u001b[0mTooManyRequestsException\u001b[0m\u001b[0;34m(\u001b[0m\u001b[0;34m\"429 Too Many Requests\"\u001b[0m\u001b[0;34m)\u001b[0m\u001b[0;34m\u001b[0m\u001b[0;34m\u001b[0m\u001b[0m\n\u001b[0m\u001b[1;32m    408\u001b[0m             \u001b[0;32mif\u001b[0m \u001b[0mresp\u001b[0m\u001b[0;34m.\u001b[0m\u001b[0mstatus_code\u001b[0m \u001b[0;34m!=\u001b[0m \u001b[0;36m200\u001b[0m\u001b[0;34m:\u001b[0m\u001b[0;34m\u001b[0m\u001b[0;34m\u001b[0m\u001b[0m\n",
      "\u001b[0;31mTooManyRequestsException\u001b[0m: 429 Too Many Requests",
      "\nDuring handling of the above exception, another exception occurred:\n",
      "\u001b[0;31mTooManyRequestsException\u001b[0m                  Traceback (most recent call last)",
      "\u001b[0;32m~/anaconda3/envs/arblet/lib/python3.7/site-packages/instaloader/instaloadercontext.py\u001b[0m in \u001b[0;36mget_json\u001b[0;34m(self, path, params, host, session, _attempt)\u001b[0m\n\u001b[1;32m    406\u001b[0m             \u001b[0;32mif\u001b[0m \u001b[0mresp\u001b[0m\u001b[0;34m.\u001b[0m\u001b[0mstatus_code\u001b[0m \u001b[0;34m==\u001b[0m \u001b[0;36m429\u001b[0m\u001b[0;34m:\u001b[0m\u001b[0;34m\u001b[0m\u001b[0;34m\u001b[0m\u001b[0m\n\u001b[0;32m--> 407\u001b[0;31m                 \u001b[0;32mraise\u001b[0m \u001b[0mTooManyRequestsException\u001b[0m\u001b[0;34m(\u001b[0m\u001b[0;34m\"429 Too Many Requests\"\u001b[0m\u001b[0;34m)\u001b[0m\u001b[0;34m\u001b[0m\u001b[0;34m\u001b[0m\u001b[0m\n\u001b[0m\u001b[1;32m    408\u001b[0m             \u001b[0;32mif\u001b[0m \u001b[0mresp\u001b[0m\u001b[0;34m.\u001b[0m\u001b[0mstatus_code\u001b[0m \u001b[0;34m!=\u001b[0m \u001b[0;36m200\u001b[0m\u001b[0;34m:\u001b[0m\u001b[0;34m\u001b[0m\u001b[0;34m\u001b[0m\u001b[0m\n",
      "\u001b[0;31mTooManyRequestsException\u001b[0m: 429 Too Many Requests",
      "\nThe above exception was the direct cause of the following exception:\n",
      "\u001b[0;31mConnectionException\u001b[0m                       Traceback (most recent call last)",
      "\u001b[0;32m<ipython-input-9-c4ee5be85f93>\u001b[0m in \u001b[0;36m<module>\u001b[0;34m\u001b[0m\n\u001b[1;32m     12\u001b[0m     \u001b[0mprint\u001b[0m\u001b[0;34m(\u001b[0m\u001b[0mlen\u001b[0m\u001b[0;34m(\u001b[0m\u001b[0musers\u001b[0m\u001b[0;34m)\u001b[0m\u001b[0;34m)\u001b[0m\u001b[0;34m\u001b[0m\u001b[0;34m\u001b[0m\u001b[0m\n\u001b[1;32m     13\u001b[0m     \u001b[0mtime\u001b[0m\u001b[0;34m.\u001b[0m\u001b[0msleep\u001b[0m\u001b[0;34m(\u001b[0m\u001b[0;36m2\u001b[0m\u001b[0;34m)\u001b[0m\u001b[0;34m\u001b[0m\u001b[0;34m\u001b[0m\u001b[0m\n\u001b[0;32m---> 14\u001b[0;31m     \u001b[0mdata\u001b[0m \u001b[0;34m=\u001b[0m \u001b[0mdataExtractor\u001b[0m\u001b[0;34m.\u001b[0m\u001b[0musers_data\u001b[0m\u001b[0;34m(\u001b[0m\u001b[0musers\u001b[0m\u001b[0;34m)\u001b[0m\u001b[0;34m\u001b[0m\u001b[0;34m\u001b[0m\u001b[0m\n\u001b[0m\u001b[1;32m     15\u001b[0m     \u001b[0mprint\u001b[0m\u001b[0;34m(\u001b[0m\u001b[0mlen\u001b[0m\u001b[0;34m(\u001b[0m\u001b[0mdata\u001b[0m\u001b[0;34m)\u001b[0m\u001b[0;34m)\u001b[0m\u001b[0;34m\u001b[0m\u001b[0;34m\u001b[0m\u001b[0m\n\u001b[1;32m     16\u001b[0m     \u001b[0mcolumns\u001b[0m \u001b[0;34m=\u001b[0m \u001b[0;34m[\u001b[0m\u001b[0;34m'username'\u001b[0m\u001b[0;34m,\u001b[0m \u001b[0;34m'followers'\u001b[0m\u001b[0;34m,\u001b[0m \u001b[0;34m'followees'\u001b[0m\u001b[0;34m,\u001b[0m \u001b[0;34m'private_account'\u001b[0m\u001b[0;34m,\u001b[0m \u001b[0;34m'post_media'\u001b[0m\u001b[0;34m,\u001b[0m \u001b[0;34m'post_igtv'\u001b[0m\u001b[0;34m,\u001b[0m \u001b[0;34m'full_name'\u001b[0m\u001b[0;34m,\u001b[0m \u001b[0;34m'biography'\u001b[0m\u001b[0;34m]\u001b[0m\u001b[0;34m\u001b[0m\u001b[0;34m\u001b[0m\u001b[0m\n",
      "\u001b[0;32m<ipython-input-3-7a5ca7044b15>\u001b[0m in \u001b[0;36musers_data\u001b[0;34m(self, users)\u001b[0m\n\u001b[1;32m     89\u001b[0m         \u001b[0;32mfor\u001b[0m \u001b[0mcount\u001b[0m\u001b[0;34m,\u001b[0m \u001b[0muser\u001b[0m \u001b[0;32min\u001b[0m \u001b[0menumerate\u001b[0m\u001b[0;34m(\u001b[0m\u001b[0musers\u001b[0m\u001b[0;34m)\u001b[0m\u001b[0;34m:\u001b[0m\u001b[0;34m\u001b[0m\u001b[0;34m\u001b[0m\u001b[0m\n\u001b[1;32m     90\u001b[0m             \u001b[0;32mtry\u001b[0m\u001b[0;34m:\u001b[0m\u001b[0;34m\u001b[0m\u001b[0;34m\u001b[0m\u001b[0m\n\u001b[0;32m---> 91\u001b[0;31m                 \u001b[0mprofile\u001b[0m \u001b[0;34m=\u001b[0m \u001b[0mProfile\u001b[0m\u001b[0;34m.\u001b[0m\u001b[0mfrom_username\u001b[0m\u001b[0;34m(\u001b[0m\u001b[0mL\u001b[0m\u001b[0;34m.\u001b[0m\u001b[0mcontext\u001b[0m\u001b[0;34m,\u001b[0m \u001b[0muser\u001b[0m\u001b[0;34m)\u001b[0m\u001b[0;34m\u001b[0m\u001b[0;34m\u001b[0m\u001b[0m\n\u001b[0m\u001b[1;32m     92\u001b[0m                 \u001b[0;32mif\u001b[0m \u001b[0mcount\u001b[0m \u001b[0;34m%\u001b[0m \u001b[0;36m5\u001b[0m \u001b[0;34m==\u001b[0m \u001b[0;36m0\u001b[0m\u001b[0;34m:\u001b[0m\u001b[0;34m\u001b[0m\u001b[0;34m\u001b[0m\u001b[0m\n\u001b[1;32m     93\u001b[0m                     \u001b[0mtime\u001b[0m\u001b[0;34m.\u001b[0m\u001b[0msleep\u001b[0m\u001b[0;34m(\u001b[0m\u001b[0;36m1\u001b[0m\u001b[0;34m)\u001b[0m\u001b[0;34m\u001b[0m\u001b[0;34m\u001b[0m\u001b[0m\n",
      "\u001b[0;32m~/anaconda3/envs/arblet/lib/python3.7/site-packages/instaloader/structures.py\u001b[0m in \u001b[0;36mfrom_username\u001b[0;34m(cls, context, username)\u001b[0m\n\u001b[1;32m    526\u001b[0m         \u001b[0;31m# pylint:disable=protected-access\u001b[0m\u001b[0;34m\u001b[0m\u001b[0;34m\u001b[0m\u001b[0;34m\u001b[0m\u001b[0m\n\u001b[1;32m    527\u001b[0m         \u001b[0mprofile\u001b[0m \u001b[0;34m=\u001b[0m \u001b[0mcls\u001b[0m\u001b[0;34m(\u001b[0m\u001b[0mcontext\u001b[0m\u001b[0;34m,\u001b[0m \u001b[0;34m{\u001b[0m\u001b[0;34m'username'\u001b[0m\u001b[0;34m:\u001b[0m \u001b[0musername\u001b[0m\u001b[0;34m.\u001b[0m\u001b[0mlower\u001b[0m\u001b[0;34m(\u001b[0m\u001b[0;34m)\u001b[0m\u001b[0;34m}\u001b[0m\u001b[0;34m)\u001b[0m\u001b[0;34m\u001b[0m\u001b[0;34m\u001b[0m\u001b[0m\n\u001b[0;32m--> 528\u001b[0;31m         \u001b[0mprofile\u001b[0m\u001b[0;34m.\u001b[0m\u001b[0m_obtain_metadata\u001b[0m\u001b[0;34m(\u001b[0m\u001b[0;34m)\u001b[0m  \u001b[0;31m# to raise ProfileNotExistException now in case username is invalid\u001b[0m\u001b[0;34m\u001b[0m\u001b[0;34m\u001b[0m\u001b[0m\n\u001b[0m\u001b[1;32m    529\u001b[0m         \u001b[0;32mreturn\u001b[0m \u001b[0mprofile\u001b[0m\u001b[0;34m\u001b[0m\u001b[0;34m\u001b[0m\u001b[0m\n\u001b[1;32m    530\u001b[0m \u001b[0;34m\u001b[0m\u001b[0m\n",
      "\u001b[0;32m~/anaconda3/envs/arblet/lib/python3.7/site-packages/instaloader/structures.py\u001b[0m in \u001b[0;36m_obtain_metadata\u001b[0;34m(self)\u001b[0m\n\u001b[1;32m    570\u001b[0m         \u001b[0;32mtry\u001b[0m\u001b[0;34m:\u001b[0m\u001b[0;34m\u001b[0m\u001b[0;34m\u001b[0m\u001b[0m\n\u001b[1;32m    571\u001b[0m             \u001b[0;32mif\u001b[0m \u001b[0;32mnot\u001b[0m \u001b[0mself\u001b[0m\u001b[0;34m.\u001b[0m\u001b[0m_has_full_metadata\u001b[0m\u001b[0;34m:\u001b[0m\u001b[0;34m\u001b[0m\u001b[0;34m\u001b[0m\u001b[0m\n\u001b[0;32m--> 572\u001b[0;31m                 \u001b[0mmetadata\u001b[0m \u001b[0;34m=\u001b[0m \u001b[0mself\u001b[0m\u001b[0;34m.\u001b[0m\u001b[0m_context\u001b[0m\u001b[0;34m.\u001b[0m\u001b[0mget_json\u001b[0m\u001b[0;34m(\u001b[0m\u001b[0;34m'{}/'\u001b[0m\u001b[0;34m.\u001b[0m\u001b[0mformat\u001b[0m\u001b[0;34m(\u001b[0m\u001b[0mself\u001b[0m\u001b[0;34m.\u001b[0m\u001b[0musername\u001b[0m\u001b[0;34m)\u001b[0m\u001b[0;34m,\u001b[0m \u001b[0mparams\u001b[0m\u001b[0;34m=\u001b[0m\u001b[0;34m{\u001b[0m\u001b[0;34m}\u001b[0m\u001b[0;34m)\u001b[0m\u001b[0;34m\u001b[0m\u001b[0;34m\u001b[0m\u001b[0m\n\u001b[0m\u001b[1;32m    573\u001b[0m                 \u001b[0mself\u001b[0m\u001b[0;34m.\u001b[0m\u001b[0m_node\u001b[0m \u001b[0;34m=\u001b[0m \u001b[0mmetadata\u001b[0m\u001b[0;34m[\u001b[0m\u001b[0;34m'entry_data'\u001b[0m\u001b[0;34m]\u001b[0m\u001b[0;34m[\u001b[0m\u001b[0;34m'ProfilePage'\u001b[0m\u001b[0;34m]\u001b[0m\u001b[0;34m[\u001b[0m\u001b[0;36m0\u001b[0m\u001b[0;34m]\u001b[0m\u001b[0;34m[\u001b[0m\u001b[0;34m'graphql'\u001b[0m\u001b[0;34m]\u001b[0m\u001b[0;34m[\u001b[0m\u001b[0;34m'user'\u001b[0m\u001b[0;34m]\u001b[0m\u001b[0;34m\u001b[0m\u001b[0;34m\u001b[0m\u001b[0m\n\u001b[1;32m    574\u001b[0m                 \u001b[0mself\u001b[0m\u001b[0;34m.\u001b[0m\u001b[0m_has_full_metadata\u001b[0m \u001b[0;34m=\u001b[0m \u001b[0;32mTrue\u001b[0m\u001b[0;34m\u001b[0m\u001b[0;34m\u001b[0m\u001b[0m\n",
      "\u001b[0;32m~/anaconda3/envs/arblet/lib/python3.7/site-packages/instaloader/instaloadercontext.py\u001b[0m in \u001b[0;36mget_json\u001b[0;34m(self, path, params, host, session, _attempt)\u001b[0m\n\u001b[1;32m    449\u001b[0m                 \u001b[0;32mif\u001b[0m \u001b[0mis_other_query\u001b[0m \u001b[0;32mand\u001b[0m \u001b[0misinstance\u001b[0m\u001b[0;34m(\u001b[0m\u001b[0merr\u001b[0m\u001b[0;34m,\u001b[0m \u001b[0mTooManyRequestsException\u001b[0m\u001b[0;34m)\u001b[0m\u001b[0;34m:\u001b[0m\u001b[0;34m\u001b[0m\u001b[0;34m\u001b[0m\u001b[0m\n\u001b[1;32m    450\u001b[0m                     \u001b[0mself\u001b[0m\u001b[0;34m.\u001b[0m\u001b[0m_ratecontrol_graphql_query\u001b[0m\u001b[0;34m(\u001b[0m\u001b[0;34m'other'\u001b[0m\u001b[0;34m,\u001b[0m \u001b[0muntracked_queries\u001b[0m\u001b[0;34m=\u001b[0m\u001b[0;32mTrue\u001b[0m\u001b[0;34m)\u001b[0m\u001b[0;34m\u001b[0m\u001b[0;34m\u001b[0m\u001b[0m\n\u001b[0;32m--> 451\u001b[0;31m                 \u001b[0;32mreturn\u001b[0m \u001b[0mself\u001b[0m\u001b[0;34m.\u001b[0m\u001b[0mget_json\u001b[0m\u001b[0;34m(\u001b[0m\u001b[0mpath\u001b[0m\u001b[0;34m=\u001b[0m\u001b[0mpath\u001b[0m\u001b[0;34m,\u001b[0m \u001b[0mparams\u001b[0m\u001b[0;34m=\u001b[0m\u001b[0mparams\u001b[0m\u001b[0;34m,\u001b[0m \u001b[0mhost\u001b[0m\u001b[0;34m=\u001b[0m\u001b[0mhost\u001b[0m\u001b[0;34m,\u001b[0m \u001b[0msession\u001b[0m\u001b[0;34m=\u001b[0m\u001b[0msess\u001b[0m\u001b[0;34m,\u001b[0m \u001b[0m_attempt\u001b[0m\u001b[0;34m=\u001b[0m\u001b[0m_attempt\u001b[0m \u001b[0;34m+\u001b[0m \u001b[0;36m1\u001b[0m\u001b[0;34m)\u001b[0m\u001b[0;34m\u001b[0m\u001b[0;34m\u001b[0m\u001b[0m\n\u001b[0m\u001b[1;32m    452\u001b[0m             \u001b[0;32mexcept\u001b[0m \u001b[0mKeyboardInterrupt\u001b[0m\u001b[0;34m:\u001b[0m\u001b[0;34m\u001b[0m\u001b[0;34m\u001b[0m\u001b[0m\n\u001b[1;32m    453\u001b[0m                 \u001b[0mself\u001b[0m\u001b[0;34m.\u001b[0m\u001b[0merror\u001b[0m\u001b[0;34m(\u001b[0m\u001b[0;34m\"[skipped by user]\"\u001b[0m\u001b[0;34m,\u001b[0m \u001b[0mrepeat_at_end\u001b[0m\u001b[0;34m=\u001b[0m\u001b[0;32mFalse\u001b[0m\u001b[0;34m)\u001b[0m\u001b[0;34m\u001b[0m\u001b[0;34m\u001b[0m\u001b[0m\n",
      "\u001b[0;32m~/anaconda3/envs/arblet/lib/python3.7/site-packages/instaloader/instaloadercontext.py\u001b[0m in \u001b[0;36mget_json\u001b[0;34m(self, path, params, host, session, _attempt)\u001b[0m\n\u001b[1;32m    449\u001b[0m                 \u001b[0;32mif\u001b[0m \u001b[0mis_other_query\u001b[0m \u001b[0;32mand\u001b[0m \u001b[0misinstance\u001b[0m\u001b[0;34m(\u001b[0m\u001b[0merr\u001b[0m\u001b[0;34m,\u001b[0m \u001b[0mTooManyRequestsException\u001b[0m\u001b[0;34m)\u001b[0m\u001b[0;34m:\u001b[0m\u001b[0;34m\u001b[0m\u001b[0;34m\u001b[0m\u001b[0m\n\u001b[1;32m    450\u001b[0m                     \u001b[0mself\u001b[0m\u001b[0;34m.\u001b[0m\u001b[0m_ratecontrol_graphql_query\u001b[0m\u001b[0;34m(\u001b[0m\u001b[0;34m'other'\u001b[0m\u001b[0;34m,\u001b[0m \u001b[0muntracked_queries\u001b[0m\u001b[0;34m=\u001b[0m\u001b[0;32mTrue\u001b[0m\u001b[0;34m)\u001b[0m\u001b[0;34m\u001b[0m\u001b[0;34m\u001b[0m\u001b[0m\n\u001b[0;32m--> 451\u001b[0;31m                 \u001b[0;32mreturn\u001b[0m \u001b[0mself\u001b[0m\u001b[0;34m.\u001b[0m\u001b[0mget_json\u001b[0m\u001b[0;34m(\u001b[0m\u001b[0mpath\u001b[0m\u001b[0;34m=\u001b[0m\u001b[0mpath\u001b[0m\u001b[0;34m,\u001b[0m \u001b[0mparams\u001b[0m\u001b[0;34m=\u001b[0m\u001b[0mparams\u001b[0m\u001b[0;34m,\u001b[0m \u001b[0mhost\u001b[0m\u001b[0;34m=\u001b[0m\u001b[0mhost\u001b[0m\u001b[0;34m,\u001b[0m \u001b[0msession\u001b[0m\u001b[0;34m=\u001b[0m\u001b[0msess\u001b[0m\u001b[0;34m,\u001b[0m \u001b[0m_attempt\u001b[0m\u001b[0;34m=\u001b[0m\u001b[0m_attempt\u001b[0m \u001b[0;34m+\u001b[0m \u001b[0;36m1\u001b[0m\u001b[0;34m)\u001b[0m\u001b[0;34m\u001b[0m\u001b[0;34m\u001b[0m\u001b[0m\n\u001b[0m\u001b[1;32m    452\u001b[0m             \u001b[0;32mexcept\u001b[0m \u001b[0mKeyboardInterrupt\u001b[0m\u001b[0;34m:\u001b[0m\u001b[0;34m\u001b[0m\u001b[0;34m\u001b[0m\u001b[0m\n\u001b[1;32m    453\u001b[0m                 \u001b[0mself\u001b[0m\u001b[0;34m.\u001b[0m\u001b[0merror\u001b[0m\u001b[0;34m(\u001b[0m\u001b[0;34m\"[skipped by user]\"\u001b[0m\u001b[0;34m,\u001b[0m \u001b[0mrepeat_at_end\u001b[0m\u001b[0;34m=\u001b[0m\u001b[0;32mFalse\u001b[0m\u001b[0;34m)\u001b[0m\u001b[0;34m\u001b[0m\u001b[0;34m\u001b[0m\u001b[0m\n",
      "\u001b[0;32m~/anaconda3/envs/arblet/lib/python3.7/site-packages/instaloader/instaloadercontext.py\u001b[0m in \u001b[0;36mget_json\u001b[0;34m(self, path, params, host, session, _attempt)\u001b[0m\n\u001b[1;32m    440\u001b[0m                     \u001b[0;32mraise\u001b[0m \u001b[0mQueryReturnedNotFoundException\u001b[0m\u001b[0;34m(\u001b[0m\u001b[0merror_string\u001b[0m\u001b[0;34m)\u001b[0m \u001b[0;32mfrom\u001b[0m \u001b[0merr\u001b[0m\u001b[0;34m\u001b[0m\u001b[0;34m\u001b[0m\u001b[0m\n\u001b[1;32m    441\u001b[0m                 \u001b[0;32melse\u001b[0m\u001b[0;34m:\u001b[0m\u001b[0;34m\u001b[0m\u001b[0;34m\u001b[0m\u001b[0m\n\u001b[0;32m--> 442\u001b[0;31m                     \u001b[0;32mraise\u001b[0m \u001b[0mConnectionException\u001b[0m\u001b[0;34m(\u001b[0m\u001b[0merror_string\u001b[0m\u001b[0;34m)\u001b[0m \u001b[0;32mfrom\u001b[0m \u001b[0merr\u001b[0m\u001b[0;34m\u001b[0m\u001b[0;34m\u001b[0m\u001b[0m\n\u001b[0m\u001b[1;32m    443\u001b[0m             \u001b[0mself\u001b[0m\u001b[0;34m.\u001b[0m\u001b[0merror\u001b[0m\u001b[0;34m(\u001b[0m\u001b[0merror_string\u001b[0m \u001b[0;34m+\u001b[0m \u001b[0;34m\" [retrying; skip with ^C]\"\u001b[0m\u001b[0;34m,\u001b[0m \u001b[0mrepeat_at_end\u001b[0m\u001b[0;34m=\u001b[0m\u001b[0;32mFalse\u001b[0m\u001b[0;34m)\u001b[0m\u001b[0;34m\u001b[0m\u001b[0;34m\u001b[0m\u001b[0m\n\u001b[1;32m    444\u001b[0m             \u001b[0;32mtry\u001b[0m\u001b[0;34m:\u001b[0m\u001b[0;34m\u001b[0m\u001b[0;34m\u001b[0m\u001b[0m\n",
      "\u001b[0;31mConnectionException\u001b[0m: JSON Query to 01.x_x/: 429 Too Many Requests"
     ]
    }
   ],
   "source": [
    "path = 'data/'\n",
    "hashtags = ['fcbarcelona', 'cairo', 'weedmemes']\n",
    "# hashtags = ['malaga', 'granada', 'bilbao']\n",
    "# hashtags = ['gay', 'nigeria', 'blackmemes']\n",
    "# hashtags = ['meme', 'coronavirus', 'jesus']\n",
    "\n",
    "today = datetime.today()\n",
    "for count, hashtag in enumerate(hashtags):\n",
    "    print(hashtag)\n",
    "    start = time.time()\n",
    "    users = dataExtractor.get_likes(hashtag = 'photography')\n",
    "    print(len(users))\n",
    "    time.sleep(2)\n",
    "    data = dataExtractor.users_data(users)\n",
    "    print(len(data))\n",
    "    columns = ['username', 'followers', 'followees', 'private_account', 'post_media', 'post_igtv', 'full_name', 'biography']\n",
    "    dataframe = pd.DataFrame(data = data, columns = columns)\n",
    "    dataframe['hashtag'] = hashtag\n",
    "    dataframe['date'] = today.date()\n",
    "    dataframe.to_csv(path + hashtag + str(count) + str(today.date()) + '.csv' , index = None)\n",
    "    end = time.time()\n",
    "    print(hashtag + str(count), end - start)"
   ]
  },
  {
   "cell_type": "code",
   "execution_count": 5,
   "metadata": {},
   "outputs": [
    {
     "name": "stderr",
     "output_type": "stream",
     "text": [
      "/home/abhijeet/anaconda3/envs/arblet/lib/python3.7/site-packages/ipykernel_launcher.py:4: SettingWithCopyWarning: \n",
      "A value is trying to be set on a copy of a slice from a DataFrame.\n",
      "Try using .loc[row_indexer,col_indexer] = value instead\n",
      "\n",
      "See the caveats in the documentation: https://pandas.pydata.org/pandas-docs/stable/user_guide/indexing.html#returning-a-view-versus-a-copy\n",
      "  after removing the cwd from sys.path.\n",
      "/home/abhijeet/anaconda3/envs/arblet/lib/python3.7/site-packages/ipykernel_launcher.py:5: SettingWithCopyWarning: \n",
      "A value is trying to be set on a copy of a slice from a DataFrame.\n",
      "Try using .loc[row_indexer,col_indexer] = value instead\n",
      "\n",
      "See the caveats in the documentation: https://pandas.pydata.org/pandas-docs/stable/user_guide/indexing.html#returning-a-view-versus-a-copy\n",
      "  \"\"\"\n"
     ]
    }
   ],
   "source": [
    "model = load('model/lgm.model')\n",
    "df = pd.read_csv('data/1.csv')\n",
    "dataframe = df[df['private_account'] == False]\n",
    "dataframe['private_account'] = 'Open'\n",
    "dataframe['post'] = dataframe['post_media'] + dataframe['post_igtv']\n",
    "data = dataframe.rename(columns = {'private_account': 'privacy', 'followees': 'followings'})\n",
    "\n",
    "data = data[['username', 'privacy', 'post', 'followings', 'followers']]\n",
    "data = data[(data.followings != 0) & (data.followers != 0) & (data.privacy == \"Open\")]\n",
    "\n",
    "if len(data) == 0:\n",
    "    pass\n",
    "else:\n",
    "    feature = featureExtraction(data)\n",
    "    df = feature.exeFeatureExtraction()\n",
    "    X = df.iloc[:, :7].values\n",
    "    model_flag = model.predict(X)  #[0]\n",
    "    \n",
    "toFollow = pd.DataFrame()\n",
    "toFollow['username'] = data['username']\n",
    "toFollow['Flag'] = model_flag\n",
    "toFollow = toFollow[toFollow['Flag'] == 0]\n",
    "\n",
    "users = toFollow['username'].values"
   ]
  },
  {
   "cell_type": "code",
   "execution_count": 72,
   "metadata": {},
   "outputs": [
    {
     "name": "stdout",
     "output_type": "stream",
     "text": [
      "16\n",
      "5fdprocker False False\n"
     ]
    },
    {
     "name": "stderr",
     "output_type": "stream",
     "text": [
      "Error parsing error response: Expecting value: line 1 column 1 (char 0)\n"
     ]
    },
    {
     "name": "stdout",
     "output_type": "stream",
     "text": [
      "Client errror:  _.annie.c_\n"
     ]
    },
    {
     "name": "stderr",
     "output_type": "stream",
     "text": [
      "Error parsing error response: Expecting value: line 1 column 1 (char 0)\n"
     ]
    },
    {
     "name": "stdout",
     "output_type": "stream",
     "text": [
      "Client errror:  _.cesar.1__\n"
     ]
    },
    {
     "name": "stderr",
     "output_type": "stream",
     "text": [
      "Error parsing error response: Expecting value: line 1 column 1 (char 0)\n"
     ]
    },
    {
     "name": "stdout",
     "output_type": "stream",
     "text": [
      "Client errror:  _.jessili._\n"
     ]
    },
    {
     "name": "stderr",
     "output_type": "stream",
     "text": [
      "Error parsing error response: Expecting value: line 1 column 1 (char 0)\n"
     ]
    },
    {
     "name": "stdout",
     "output_type": "stream",
     "text": [
      "Client errror:  _.jxst.fabienne._\n"
     ]
    },
    {
     "name": "stderr",
     "output_type": "stream",
     "text": [
      "Error parsing error response: Expecting value: line 1 column 1 (char 0)\n"
     ]
    },
    {
     "name": "stdout",
     "output_type": "stream",
     "text": [
      "Client errror:  _.luisa.2801._\n",
      "___mariposa___i3 False False\n",
      "___saly04___ False False\n",
      "__laurasophie_2486 False False\n",
      "__niiki__ False False\n"
     ]
    },
    {
     "name": "stderr",
     "output_type": "stream",
     "text": [
      "Error parsing error response: Expecting value: line 1 column 1 (char 0)\n"
     ]
    },
    {
     "name": "stdout",
     "output_type": "stream",
     "text": [
      "Client errror:  __sam.wagner_\n",
      "__vivi666__ False False\n",
      "_die_denise False False\n"
     ]
    },
    {
     "name": "stderr",
     "output_type": "stream",
     "text": [
      "Error parsing error response: Expecting value: line 1 column 1 (char 0)\n"
     ]
    },
    {
     "name": "stdout",
     "output_type": "stream",
     "text": [
      "Client errror:  _emelie.znk_\n"
     ]
    },
    {
     "name": "stderr",
     "output_type": "stream",
     "text": [
      "Error parsing error response: Expecting value: line 1 column 1 (char 0)\n"
     ]
    },
    {
     "name": "stdout",
     "output_type": "stream",
     "text": [
      "Client errror:  _finja.06\n",
      "_herzmensch_85 False False\n"
     ]
    }
   ],
   "source": [
    "print(len(users))\n",
    "for user in users:\n",
    "    try: \n",
    "        print(user, insta.following(user), insta.followed_by(user))\n",
    "        time.sleep(5)\n",
    "    except ClientError:\n",
    "        time.sleep(5)\n",
    "        print ('Client errror: ', user)\n",
    "    "
   ]
  },
  {
   "cell_type": "code",
   "execution_count": null,
   "metadata": {
    "scrolled": true
   },
   "outputs": [
    {
     "name": "stderr",
     "output_type": "stream",
     "text": [
      "/home/abhijeet/anaconda3/envs/arblet/lib/python3.7/site-packages/instagram_private_api/endpoints/users.py:44: ClientExperimentalWarning: This endpoint is experimental. Do not use.\n",
      "  warnings.warn('This endpoint is experimental. Do not use.', ClientExperimentalWarning)\n"
     ]
    },
    {
     "name": "stdout",
     "output_type": "stream",
     "text": [
      "Error in requesting :  _akhil_200\n",
      "Error in requesting :  _iamkeshii\n",
      "Error in requesting :  _prabin_raj\n",
      "Sent Request to :  anuraj_7787\n",
      "Sent Request to :  b_ad_ca_ptain\n",
      "Sent Request to :  black_kid_43\n",
      "Sent Request to :  chrisschibu\n",
      "Sent Request to :  dineshprajapati9970\n"
     ]
    }
   ],
   "source": [
    "# time.sleep(650)\n",
    "RequestSent = 0\n",
    "privateAccount = 0\n",
    "Error = 0\n",
    "for user in users:\n",
    "    try:\n",
    "        if (insta.following(user) == False and insta.followed_by(user) == False ):\n",
    "            time.sleep(2)\n",
    "            insta.follow(user)\n",
    "            time.sleep(2)\n",
    "\n",
    "            insta.likeUserPhotos(user, amount = 4, sleepTime = 2)\n",
    "            print('Sent Request to : ', user)\n",
    "            time.sleep(2)\n",
    "            RequestSent += 1\n",
    "        else: \n",
    "            print('already know this user : ', user)\n",
    "\n",
    "    except ClientError:\n",
    "        print('Error in requesting : ', user)\n",
    "        time.sleep(2)\n",
    "        Error += 1\n",
    "\n",
    "print('Total Request Sent :', RequestSent)\n",
    "print('Total Error Happened:', Error)\n",
    "print('Total Private Account:', privateAccount)\n",
    "print(len(users))"
   ]
  },
  {
   "cell_type": "code",
   "execution_count": null,
   "metadata": {},
   "outputs": [],
   "source": []
  }
 ],
 "metadata": {
  "kernelspec": {
   "display_name": "Python 3",
   "language": "python",
   "name": "python3"
  },
  "language_info": {
   "codemirror_mode": {
    "name": "ipython",
    "version": 3
   },
   "file_extension": ".py",
   "mimetype": "text/x-python",
   "name": "python",
   "nbconvert_exporter": "python",
   "pygments_lexer": "ipython3",
   "version": "3.7.7"
  }
 },
 "nbformat": 4,
 "nbformat_minor": 4
}
