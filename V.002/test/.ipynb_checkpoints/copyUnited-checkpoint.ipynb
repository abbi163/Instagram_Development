{
 "cells": [
  {
   "cell_type": "code",
   "execution_count": null,
   "metadata": {},
   "outputs": [],
   "source": []
  },
  {
   "cell_type": "code",
   "execution_count": null,
   "metadata": {},
   "outputs": [],
   "source": [
    "! pip install git+https://git@github.com/ping/instagram_private_api.git@1.6.0 --upgrade\n",
    "! pip install instaloader"
   ]
  },
  {
   "cell_type": "code",
   "execution_count": null,
   "metadata": {},
   "outputs": [],
   "source": []
  },
  {
   "cell_type": "code",
   "execution_count": null,
   "metadata": {},
   "outputs": [],
   "source": []
  },
  {
   "cell_type": "code",
   "execution_count": 6,
   "metadata": {},
   "outputs": [],
   "source": [
    "from instagram_private_api import Client, ClientCompatPatch\n",
    "from instagram_private_api.errors import ClientError  \n",
    "import time\n",
    "class Instagram(object):\n",
    "    def __init__(self, username = None, password = None):\n",
    "        self.username = username\n",
    "        self.password = password\n",
    "        self.api = self.login()\n",
    "        \n",
    "    def login(self):\n",
    "        return Client(self.username, self.password)\n",
    "    \n",
    "    def get_userId(self, user):\n",
    "        # Getting userId to send follo or unfollow request according to this python package !\n",
    "        ''' return userId for crossponding user which can be used to send follow | unfollow request '''\n",
    "        return self.api.user_detail_info(user)['reel_feed']['id']\n",
    "    \n",
    "    def get_mediaId(self, user):\n",
    "        ''' Returns mediaId for public account, \n",
    "            Note: Only top 12 media id is returned if total number of media is more than 12 else return media id\n",
    "            of all the posts\n",
    "        '''\n",
    "        return [item['id'] for item in self.api.user_detail_info(user)['feed']['items']]\n",
    "    \n",
    "    def follow(self, user):\n",
    "        userId = self.api.user_detail_info(user)['reel_feed']['id']\n",
    "        self.api.friendships_create(userId)\n",
    "        \n",
    "    def unfollow(self, user):\n",
    "        userId = self.api.user_detail_info(user)['reel_feed']['id']\n",
    "        self.api.friendships_destroy(userId) \n",
    "        \n",
    "    def likeUserPhotos(self, user, amount = None, sleepTime = 2):\n",
    "        '''\n",
    "        Like photos of user if username is given.\n",
    "        \n",
    "        # Note : change sleepTime if required\n",
    "        \n",
    "        Example: \n",
    "            >>> likeUserPhotos(user, amount = None, sleepTime = 2)\n",
    "        '''\n",
    "        media_id = [item['id'] for item in self.api.user_detail_info(user)['feed']['items']]\n",
    "        if amount == None : \n",
    "            count = len(media_id)\n",
    "        elif amount > len(media_id):\n",
    "            count = len(media_id)\n",
    "        else:\n",
    "            count = amount\n",
    "        for i in range(0 , count):\n",
    "            self.api.post_like(media_id[i])\n",
    "            time.sleep(sleepTime)\n",
    "    def privateAccount(self, user):\n",
    "        ''' True if the account is private else False '''\n",
    "        return self.api.user_detail_info(user)['user_detail']['user']['is_private']\n",
    "            "
   ]
  },
  {
   "cell_type": "code",
   "execution_count": null,
   "metadata": {},
   "outputs": [],
   "source": []
  },
  {
   "cell_type": "code",
   "execution_count": 3,
   "metadata": {},
   "outputs": [],
   "source": [
    "# insta = Instagram(username = 'rat163002', password = 'Abbi@163')\n",
    "insta = Instagram(username = 'sexy__beauty__420', password = 'Abhijeet@163')"
   ]
  },
  {
   "cell_type": "code",
   "execution_count": null,
   "metadata": {
    "scrolled": true
   },
   "outputs": [
    {
     "name": "stdout",
     "output_type": "stream",
     "text": [
      "bjp\n"
     ]
    },
    {
     "name": "stderr",
     "output_type": "stream",
     "text": [
      "Error parsing error response: Expecting value: line 1 column 1 (char 0)\n"
     ]
    },
    {
     "name": "stdout",
     "output_type": "stream",
     "text": [
      "Done Till Here\n",
      "0ye.harsh\n"
     ]
    },
    {
     "name": "stderr",
     "output_type": "stream",
     "text": [
      "Error parsing error response: Expecting value: line 1 column 1 (char 0)\n"
     ]
    },
    {
     "name": "stdout",
     "output_type": "stream",
     "text": [
      "_._bla_ck__.__pan_ther_._\n"
     ]
    },
    {
     "name": "stderr",
     "output_type": "stream",
     "text": [
      "Error parsing error response: Expecting value: line 1 column 1 (char 0)\n"
     ]
    },
    {
     "name": "stdout",
     "output_type": "stream",
     "text": [
      "_.parth_2793._\n"
     ]
    },
    {
     "name": "stderr",
     "output_type": "stream",
     "text": [
      "Error parsing error response: Expecting value: line 1 column 1 (char 0)\n"
     ]
    },
    {
     "name": "stdout",
     "output_type": "stream",
     "text": [
      "__.a_s_w_in.__\n"
     ]
    },
    {
     "name": "stderr",
     "output_type": "stream",
     "text": [
      "Error parsing error response: Expecting value: line 1 column 1 (char 0)\n",
      "Error parsing error response: Expecting value: line 1 column 1 (char 0)\n"
     ]
    },
    {
     "name": "stdout",
     "output_type": "stream",
     "text": [
      "___.d.i.s.h.a__\n",
      "____.hussainii.ahmedullah.____\n",
      "Sent Request to :  ___ab__id_______\n",
      "Sent Request to :  __aj__ajmal\n",
      "Sent Request to :  __am_br_o\n"
     ]
    },
    {
     "name": "stderr",
     "output_type": "stream",
     "text": [
      "Error parsing error response: Expecting value: line 1 column 1 (char 0)\n",
      "Error parsing error response: Expecting value: line 1 column 1 (char 0)\n"
     ]
    },
    {
     "name": "stdout",
     "output_type": "stream",
     "text": [
      "__anchal._.mehra__\n",
      "__azad__kl.9___\n",
      "Sent Request to :  __deep__thinker__vd\n"
     ]
    },
    {
     "name": "stderr",
     "output_type": "stream",
     "text": [
      "Error parsing error response: Expecting value: line 1 column 1 (char 0)\n"
     ]
    },
    {
     "name": "stdout",
     "output_type": "stream",
     "text": [
      "__dev.d__\n"
     ]
    },
    {
     "name": "stderr",
     "output_type": "stream",
     "text": [
      "Error parsing error response: Expecting value: line 1 column 1 (char 0)\n"
     ]
    },
    {
     "name": "stdout",
     "output_type": "stream",
     "text": [
      "__jd.69__\n",
      "Sent Request to :  __ju_ra_ij__j_j\n",
      "Sent Request to :  __muzammil_jr\n",
      "Sent Request to :  __nou_shi\n"
     ]
    },
    {
     "name": "stderr",
     "output_type": "stream",
     "text": [
      "Error parsing error response: Expecting value: line 1 column 1 (char 0)\n"
     ]
    },
    {
     "name": "stdout",
     "output_type": "stream",
     "text": [
      "__psychx.__\n",
      "Sent Request to :  __shamil__mohd\n",
      "Sent Request to :  __thehinduguy__\n",
      "Sent Request to :  _a_d_h_i_n_u_\n"
     ]
    }
   ],
   "source": [
    "\n",
    "\n",
    "# Necessary imports\n",
    "from datetime import datetime, timedelta\n",
    "from itertools import dropwhile, takewhile\n",
    "from instaloader import Instaloader, Profile\n",
    "from sklearn.externals.joblib import load\n",
    "import sqlite3 as db\n",
    "import numpy as np\n",
    "import pandas as pd\n",
    "from numpy import random\n",
    "\n",
    "# hashtags = [ 'black', 'ethiopia', 'afrique', 'culture' ,'naija', 'adventure', 'morocco', 'naturephotography', 'senegal']\n",
    "\n",
    "# For Indian Audience !!\n",
    "hashtags = ['bjp', 'modi', 'aap', 'hinduism', 'hindutva', 'hindurashtra']\n",
    "#black #travelgram #ethiopia #london #uk #picoftheday #afrique #bhfyp #style #worldwide #canada #team]\n",
    "for hashtag in hashtags:\n",
    "\n",
    "#     t = random.randint(0, len(hashtags))\n",
    "#     hashtag = hashtags[t]\n",
    "    print (hashtag)\n",
    "    # Step 2\n",
    "    L = Instaloader()\n",
    "    data = []\n",
    "    posts = L.get_hashtag_posts(hashtag)\n",
    "    likes = set()\n",
    "\n",
    "    today = datetime.today()\n",
    "    tomorrow = datetime.today() + timedelta(days = 2)\n",
    "    yesterday = datetime.today() + timedelta(days = -1)\n",
    "\n",
    "    # Since is big | less past \n",
    "    SINCE = tomorrow\n",
    "    # Until is small | past\n",
    "    UNTIL = yesterday\n",
    "\n",
    "    # Extract the list of people to send request to, note : We are selecting the users who are recently active. \n",
    "\n",
    "    for post in takewhile(lambda p: p.date > UNTIL, dropwhile(lambda p: p.date > SINCE, posts)):\n",
    "#         print(post.date)\n",
    "        likes = post.get_likes()\n",
    "        for like in likes:\n",
    "            data.append(like.username)\n",
    "        users = np.unique(data)\n",
    "        if len(users) >= 200: \n",
    "            break;\n",
    "        else:\n",
    "            pass\n",
    "       \n",
    "    print('Done Till Here')\n",
    "    RequestSent = 0\n",
    "    privateAccount = 0\n",
    "    Error = 0\n",
    "    for user in users:\n",
    "        try: \n",
    "            if (insta.privateAccount(user) == False):\n",
    "                time.sleep(2)\n",
    "                insta.follow(user)\n",
    "                print('Sent Request to : ', user)\n",
    "                time.sleep(5)\n",
    "                RequestSent += 1\n",
    "            else: \n",
    "                privateAccount += 1\n",
    "        except ClientError:\n",
    "            print(user)\n",
    "            Error += 1\n",
    "            \n",
    "    print('Total Request Sent :', RequestSent)\n",
    "    print('Total Error Happened:', Error)\n",
    "    print('Total Private Account:', privateAccount)\n",
    "    print(len(users))"
   ]
  },
  {
   "cell_type": "code",
   "execution_count": null,
   "metadata": {},
   "outputs": [],
   "source": []
  }
 ],
 "metadata": {
  "kernelspec": {
   "display_name": "Python 3",
   "language": "python",
   "name": "python3"
  },
  "language_info": {
   "codemirror_mode": {
    "name": "ipython",
    "version": 3
   },
   "file_extension": ".py",
   "mimetype": "text/x-python",
   "name": "python",
   "nbconvert_exporter": "python",
   "pygments_lexer": "ipython3",
   "version": "3.7.7"
  }
 },
 "nbformat": 4,
 "nbformat_minor": 4
}
