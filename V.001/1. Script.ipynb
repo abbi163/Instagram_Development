{
 "cells": [
  {
   "cell_type": "code",
   "execution_count": null,
   "id": "4967c864-b10e-408d-af3d-9b001534b6b4",
   "metadata": {},
   "outputs": [],
   "source": [
    "# ! pip install webdriver-manager"
   ]
  },
  {
   "cell_type": "code",
   "execution_count": null,
   "id": "f4786535-5206-43b9-9b12-00fff87702a0",
   "metadata": {},
   "outputs": [],
   "source": []
  },
  {
   "cell_type": "code",
   "execution_count": 1,
   "id": "54d1bbad-847c-43cd-969b-be20047178a2",
   "metadata": {},
   "outputs": [],
   "source": [
    "import pandas as pd\n",
    "import numpy as np\n",
    "import re\n",
    "from selenium import webdriver\n",
    "from selenium.webdriver.common.keys import Keys\n",
    "from selenium.common.exceptions import NoSuchElementException\n",
    "from selenium.webdriver.chrome.options import Options\n",
    "from selenium import webdriver\n",
    "from webdriver_manager.chrome import ChromeDriverManager\n",
    "from selenium.webdriver.common.by import By\n",
    "import time\n",
    "import csv\n",
    "import traceback"
   ]
  },
  {
   "cell_type": "code",
   "execution_count": 2,
   "id": "7f6c0802-c0ff-4908-a501-ba84b0b9eecf",
   "metadata": {},
   "outputs": [],
   "source": [
    "\n",
    "\n",
    "\n",
    "class InstagramBot:\n",
    "    def __init__(self, user=None, pwd= None):\n",
    "        self.username = user\n",
    "        self.password = pwd\n",
    "        self.bot = webdriver.Chrome(ChromeDriverManager(version=\"101.0.4951.41\").install())\n",
    "        \n",
    "        \n",
    "    def login(self):\n",
    "        bot = self.bot\n",
    "        bot.get('https://www.instagram.com/accounts/login/')\n",
    "        time.sleep(3)\n",
    "        email = bot.find_element_by_name('username').send_keys(self.username)\n",
    "        password = bot.find_element_by_name('password').send_keys(self.password + Keys.RETURN)\n",
    "\n",
    "        time.sleep(3)\n",
    "\n",
    "    def searchHashtag(self,hashtag):\n",
    "        bot = self.bot\n",
    "\n",
    "        bot.get('https://www.instagram.com/explore/tags/' + hashtag)\n",
    "        \n",
    "    def profile(self, user):\n",
    "        ''' '''\n",
    "        time.sleep(3)\n",
    "        bot = self.bot\n",
    "        bot.get('https://www.instagram.com/{}'.format(user))\n",
    "        time.sleep(3)\n",
    "               \n",
    "    def likePhotos(self,amount = 3):\n",
    "        ''' This program likes the picture'''\n",
    "        bot = self.bot\n",
    "        try:\n",
    "            bot.find_element_by_class_name('v1Nh3').click()\n",
    "\n",
    "            i = 1\n",
    "            while i <= amount:\n",
    "                time.sleep(4 + np.random.randint(1,6))\n",
    "                \n",
    "                # for liking picture\n",
    "                bot.find_element_by_class_name('fr66n').click()\n",
    "                time.sleep(1 + np.random.randint(2, 5))\n",
    "                \n",
    "                # for clicking next picture \n",
    "                bot.find_element(By.XPATH,\"//button[@class='wpO6b  ']//*[@aria-label='Next']\" ).click()\n",
    "                time.sleep(1 + np.random.randint(3,5))\n",
    "                i += 1\n",
    "            return 0\n",
    "        \n",
    "        except NoSuchElementException:\n",
    "            return print(\"Error Found \")\n",
    "      \n",
    "    def countPostsFollowingFollowers(self, user):\n",
    "        '''returns the number of containing post count by user instagram'''\n",
    "        bot = self.bot\n",
    "        try:\n",
    "            # suppose the username doesnot exits then try and exist will handle the case with non existant user return 0.\n",
    "            bot.get('https://www.instagram.com/{}'.format(user))\n",
    "            post = bot.find_element_by_class_name('k9GMp ').text\n",
    "            t1 = re.split(\"\\n\", post)\n",
    "            posts = InstagramBot.transformation(re.split(\" \", t1[0])[0])\n",
    "            following = InstagramBot.transformation(re.split(\" \", t1[2])[0])\n",
    "            followers = InstagramBot.transformation(re.split(\" \", t1[1])[0])\n",
    "            return posts, following, followers\n",
    "        except NoSuchElementException:\n",
    "            return 0, 0, 0\n",
    "    \n",
    "    \n",
    "    def unfollow(self, user):\n",
    "        'give profile detail , i.e user detail'\n",
    "        bot = self.bot\n",
    "        bot.get('https://www.instagram.com/{}'.format(user))\n",
    "        time.sleep(2)\n",
    "        bot.find_element_by_xpath('/html/body/div[1]/section/main/div/header/section/div[1]/div[2]/span/span[1]/button').click()\n",
    "        time.sleep(2)\n",
    "        bot.find_element_by_xpath('//button[text()=\"Unfollow\"]').click()\n",
    "        time.sleep(4)\n",
    "        \n",
    "    def follow(self, user):\n",
    "        ''' Given profile detail, this program follows. '''\n",
    "        bot = self.bot\n",
    "        bot.get('https://www.instagram.com/{}'.format(user))\n",
    "        time.sleep(4)\n",
    "        bot.find_element_by_xpath('//button[text()=\"Follow\"]').click()\n",
    "        time.sleep(2)\n",
    "\n",
    "    def directMessage(self, user, message = ''):\n",
    "        ''' This function takes user and message as an input and sends direct message as an output. '''\n",
    "        assert type(message) == str\n",
    "        bot = self.bot\n",
    "        bot.get('https://www.instagram.com/direct/new/')\n",
    "        time.sleep(2)\n",
    "        bot.find_element_by_name(\"queryBox\").send_keys(user)\n",
    "        time.sleep(2)\n",
    "        bot.find_element_by_xpath('/html/body/div[2]/div/div[2]/div[2]/div[1]/div/div[3]/button').click()\n",
    "        time.sleep(2)\n",
    "        bot.find_element_by_xpath('//button[text()=\"Next\"]').click()\n",
    "        time.sleep(2)\n",
    "        bot.find_elements_by_xpath(\"*//textarea\")[0].send_keys(message)\n",
    "        time.sleep(3)\n",
    "        bot.find_element_by_xpath('//button[text()=\"Send\"]').click()\n",
    "        time.sleep(2)\n",
    "         \n",
    "   \n",
    "    def accountPrivacy(self, user):\n",
    "        ''' This function returns either true or false. If it's an open account, it returns True, If it's locked. It will return False.   '''\n",
    "        time.sleep(1)\n",
    "        posts, following, followers = InstagramBot.countPostsFollowingFollowers(self, user)\n",
    "        time.sleep(1 + np.random.randint(2,3))\n",
    "        bot = self.bot\n",
    "        if posts == 0:\n",
    "            return user, 'unknown', posts, following, followers\n",
    "        else:\n",
    "            try:\n",
    "                bot.find_element_by_class_name('v1Nh3').click()\n",
    "                return user, 'Open', posts, following, followers\n",
    "            \n",
    "            except NoSuchElementException:\n",
    "                return user, 'Private', posts, following, followers\n",
    "        "
   ]
  },
  {
   "cell_type": "markdown",
   "id": "5fafdb27-9e79-4de5-9639-ea6e8fd4e75f",
   "metadata": {},
   "source": [
    "###TODO : \n",
    "\n",
    "    1. Check LOGIN : LOGIN working perfectly !!\n",
    "    2. Check other profile opens by entring the profile name\n",
    "    3. Check Hashtag \n"
   ]
  },
  {
   "cell_type": "code",
   "execution_count": 3,
   "id": "33486a7a-e2a2-43de-8bca-450ce15cf79e",
   "metadata": {},
   "outputs": [],
   "source": [
    "user=\"abbi13011995\"\n",
    "pwd = \"3.141592653589\""
   ]
  },
  {
   "cell_type": "markdown",
   "id": "6da3d279-d06d-4a85-a4a0-70ef45434018",
   "metadata": {},
   "source": [
    "### 1. LOGIN INTO INSTAGRAM !!"
   ]
  },
  {
   "cell_type": "code",
   "execution_count": 4,
   "id": "9d963137-23ac-4cc2-bc51-4bd63c258410",
   "metadata": {},
   "outputs": [
    {
     "name": "stderr",
     "output_type": "stream",
     "text": [
      "\n",
      "\n",
      "====== WebDriver manager ======\n",
      "Driver [/Users/abbi163/.wdm/drivers/chromedriver/mac64/101.0.4951.41/chromedriver] found in cache\n"
     ]
    }
   ],
   "source": [
    "insta = InstagramBot(user=user, pwd=pwd)\n",
    "insta.login()"
   ]
  },
  {
   "cell_type": "code",
   "execution_count": null,
   "id": "4933087c-0b15-4ddc-b968-d3fcfc7c093e",
   "metadata": {},
   "outputs": [],
   "source": []
  },
  {
   "cell_type": "markdown",
   "id": "4ea69250-cad9-4da4-a439-f3871c86ad10",
   "metadata": {},
   "source": [
    "### 2. CHECK HASHTAG WITH JAPANESE KEYWORD !!"
   ]
  },
  {
   "cell_type": "code",
   "execution_count": 13,
   "id": "90f28f6f-9e86-4472-bd98-761cb510cd0b",
   "metadata": {},
   "outputs": [],
   "source": [
    "hashtag = \"TODAI\"\n",
    "insta.searchHashtag(hashtag)\n"
   ]
  },
  {
   "cell_type": "markdown",
   "id": "cc53097d-c3bf-425e-a93f-a408f001c332",
   "metadata": {},
   "source": [
    "### 3. CHECK USER BY PROVIDING THERE USER ID"
   ]
  },
  {
   "cell_type": "code",
   "execution_count": 7,
   "id": "a460323a-d0dc-49c6-8dcc-f11affaf8b84",
   "metadata": {},
   "outputs": [],
   "source": [
    "friend_id = \"abbijeetanand\"\n",
    "insta.profile(friend_id)"
   ]
  },
  {
   "cell_type": "code",
   "execution_count": null,
   "id": "336bc935-c2e3-4188-9bf9-9db23c969821",
   "metadata": {},
   "outputs": [],
   "source": []
  },
  {
   "cell_type": "code",
   "execution_count": null,
   "id": "2d896c5a-7b6a-4f8e-888a-1d638432d48d",
   "metadata": {},
   "outputs": [],
   "source": []
  },
  {
   "cell_type": "markdown",
   "id": "4f343713-6a44-4112-ba73-9bc3445cab8d",
   "metadata": {},
   "source": [
    "### 4. LIKE PICTURE OF THE USER !!"
   ]
  },
  {
   "cell_type": "code",
   "execution_count": null,
   "id": "eca4b3a5-b1bd-4aa8-be9a-f04c135b3f57",
   "metadata": {},
   "outputs": [],
   "source": [
    "insta.likePhotos()"
   ]
  },
  {
   "cell_type": "code",
   "execution_count": null,
   "id": "9ce960f9-ab9c-42ec-a220-32f87107c144",
   "metadata": {},
   "outputs": [],
   "source": []
  }
 ],
 "metadata": {
  "kernelspec": {
   "display_name": "Python 3 (ipykernel)",
   "language": "python",
   "name": "python3"
  },
  "language_info": {
   "codemirror_mode": {
    "name": "ipython",
    "version": 3
   },
   "file_extension": ".py",
   "mimetype": "text/x-python",
   "name": "python",
   "nbconvert_exporter": "python",
   "pygments_lexer": "ipython3",
   "version": "3.9.7"
  }
 },
 "nbformat": 4,
 "nbformat_minor": 5
}
